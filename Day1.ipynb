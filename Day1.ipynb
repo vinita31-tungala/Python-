{
 "cells": [
  {
   "cell_type": "code",
   "execution_count": 1,
   "id": "1716eee2-8de7-4f70-9b97-0802366e9b42",
   "metadata": {},
   "outputs": [
    {
     "name": "stdout",
     "output_type": "stream",
     "text": [
      "Hello,Students!\n"
     ]
    }
   ],
   "source": [
    "#Basic function program\n",
    "def hi(name):\n",
    "    return f\"Hello,{name}!\"\n",
    "print(hi(\"Students\"))"
   ]
  },
  {
   "cell_type": "code",
   "execution_count": 7,
   "id": "c5d0c9ca-b452-4708-96fb-b03ed76323f2",
   "metadata": {},
   "outputs": [
    {
     "name": "stdout",
     "output_type": "stream",
     "text": [
      "10\n",
      "15\n"
     ]
    }
   ],
   "source": [
    "#default parameters\n",
    "def a(x,y=2):\n",
    "    return x*y\n",
    "print(a(5))\n",
    "print(a(5,3))"
   ]
  },
  {
   "cell_type": "code",
   "execution_count": 13,
   "id": "42161064-72a5-478a-a7bc-a1de2e2b6b58",
   "metadata": {},
   "outputs": [
    {
     "name": "stdout",
     "output_type": "stream",
     "text": [
      "6\n",
      "100\n"
     ]
    }
   ],
   "source": [
    "#function with var args\n",
    "def sumnum(*args):\n",
    "    return sum(args)\n",
    "print(sumnum(1,2,3))\n",
    "print(sumnum(10,20,30,40))"
   ]
  },
  {
   "cell_type": "code",
   "execution_count": 15,
   "id": "ff81e125-4a82-4073-a108-8056675176f9",
   "metadata": {},
   "outputs": [
    {
     "name": "stdout",
     "output_type": "stream",
     "text": [
      "name:vinita\n",
      "age:20\n",
      "city:vij\n"
     ]
    }
   ],
   "source": [
    "#function with keyword args\n",
    "def info(**kwargs):\n",
    "    for key,value in kwargs.items():\n",
    "        print(f\"{key}:{value}\")\n",
    "info(name='vinita',age=20,city='vij')"
   ]
  },
  {
   "cell_type": "code",
   "execution_count": 19,
   "id": "dc239020-de96-4670-bcb6-a1f32661a389",
   "metadata": {},
   "outputs": [
    {
     "name": "stdout",
     "output_type": "stream",
     "text": [
      "16\n",
      "14\n"
     ]
    }
   ],
   "source": [
    "#lambda function\n",
    "sq=lambda a:a*a\n",
    "print(sq(4))\n",
    "add=lambda x,y:x+y\n",
    "print(add(5,9))"
   ]
  },
  {
   "cell_type": "code",
   "execution_count": 33,
   "id": "4d44e3e9-8c3b-4a4d-a067-03566bd6245d",
   "metadata": {},
   "outputs": [
    {
     "name": "stdout",
     "output_type": "stream",
     "text": [
      "Min:1,Max:5,Average:3.0\n"
     ]
    }
   ],
   "source": [
    "#write a python program to return multiple values\n",
    "#min,max,avg by passing 1,2,3,4,5 to a function\n",
    "def values(numbers):\n",
    "    return min(numbers),max(numbers),sum(numbers)/len(numbers)\n",
    "min_val,max_val,avg=values([1,2,3,4,5])\n",
    "print(f\"Min:{min_val},Max:{max_val},Average:{avg}\")"
   ]
  },
  {
   "cell_type": "code",
   "execution_count": null,
   "id": "fe0885f3-be9a-4ed6-ae8c-027fa376372a",
   "metadata": {},
   "outputs": [],
   "source": [
    "#Recusion types\n",
    "1.Direct Recursion\n",
    "2.Indirect Recursion\n",
    "3.Head Recursion (or) Non-Tail Recursion\n",
    "4.Tail Recursion\n",
    "5.Linear Recursion\n",
    "6.Binary Recursion\n",
    "7.Multiple Recursion\n",
    "8.Nested Recursion\n",
    "9.Mutual Recursion\n",
    "10.Divide and Conquer Recursion\n",
    "11.Tree Recursion\n",
    "12.Absolute (or) Static Recursion"
   ]
  },
  {
   "cell_type": "code",
   "execution_count": 41,
   "id": "a5334822-bf4c-4159-b741-a9780f3aca5a",
   "metadata": {},
   "outputs": [
    {
     "name": "stdout",
     "output_type": "stream",
     "text": [
      "720\n"
     ]
    }
   ],
   "source": [
    "#recursive fact(Direct Recursion)\n",
    "def fact(n):\n",
    "    if n==0 or n==1:\n",
    "        return 1\n",
    "    return n*fact(n-1)\n",
    "print(fact(6))"
   ]
  },
  {
   "cell_type": "code",
   "execution_count": 45,
   "id": "837105af-ff3f-4df8-859a-10c371f01a6e",
   "metadata": {},
   "outputs": [
    {
     "name": "stdout",
     "output_type": "stream",
     "text": [
      "True\n",
      "True\n"
     ]
    }
   ],
   "source": [
    "#Indirect Recursion\n",
    "def is_even(n):\n",
    "    if n==0:\n",
    "        return True\n",
    "    return is_odd(n-1)\n",
    "def is_odd(n):\n",
    "    if n==0:\n",
    "        return False\n",
    "    return is_even(n-1)\n",
    "print(is_even(4))\n",
    "print(is_odd(3))"
   ]
  },
  {
   "cell_type": "markdown",
   "id": "6827950d-567a-4d7b-9f26-c60bcbeb13cd",
   "metadata": {},
   "source": [
    "Create a program to determine if a string is a  palindrome by recursively comparing characters from start to end by base case function and call if the pointer meets its palindrome constraints:\n",
    "def is_palindrome length\n",
    "def check_palindrome start,end,s\n",
    "input:\n",
    "racecar=True\n",
    "hello=False\n",
    "level=True"
   ]
  },
  {
   "cell_type": "code",
   "execution_count": 53,
   "id": "e845dd8f-dc2c-4c47-b390-d8a4201e2f98",
   "metadata": {},
   "outputs": [
    {
     "name": "stdout",
     "output_type": "stream",
     "text": [
      "True\n",
      "False\n",
      "True\n"
     ]
    }
   ],
   "source": [
    "#Indirect Recursion\n",
    "def is_palindrome(n):\n",
    "    if len(n)<=1:\n",
    "        return True\n",
    "    return check_palindrome(n,0,len(n)-1)\n",
    "def check_palindrome(n,start,end):\n",
    "    if start>=end:\n",
    "        return True\n",
    "    if n[start]!=n[end]:\n",
    "        return False\n",
    "    return is_palindrome(n[start+1:end])\n",
    "print(is_palindrome(\"racecar\"))\n",
    "print(is_palindrome(\"hello\"))\n",
    "print(is_palindrome(\"level\"))"
   ]
  },
  {
   "cell_type": "code",
   "execution_count": 55,
   "id": "22e6b505-f1e3-4948-84ee-605a6bc7d81c",
   "metadata": {},
   "outputs": [
    {
     "name": "stdout",
     "output_type": "stream",
     "text": [
      "120\n"
     ]
    }
   ],
   "source": [
    "#Tail Recursion ,acc=accumulator,in python there is no optimization \n",
    "def ftail(n,acc=1):\n",
    "    if n==0 or n==1:\n",
    "        return acc\n",
    "    return ftail(n-1,n*acc)\n",
    "print(ftail(5))"
   ]
  },
  {
   "cell_type": "code",
   "execution_count": 57,
   "id": "3a6dbe3d-ba2a-49a9-81e0-b60a11118348",
   "metadata": {},
   "outputs": [
    {
     "name": "stdout",
     "output_type": "stream",
     "text": [
      "5\n"
     ]
    }
   ],
   "source": [
    "#Nested Recursion\n",
    "def ackermann(m,n):\n",
    "    if m==0:\n",
    "        return n+1\n",
    "    elif m>0 and n==0:\n",
    "        return ackermann(m-1,1)\n",
    "    else:\n",
    "        return ackermann(m-1,ackermann(m,n-1))\n",
    "print(ackermann(2,1))"
   ]
  },
  {
   "cell_type": "code",
   "execution_count": null,
   "id": "e9972d2d-cdc8-4983-b8ad-a0f3a790cc90",
   "metadata": {},
   "outputs": [],
   "source": [
    "#Nested Recursion\n",
    "def countdown(n):\n",
    "    if n<=0:\n",
    "        return 0\n",
    "    else:\n",
    "        print(f\"count({n}) -> countdown({n-1})\")\n",
    "        return\n",
    "        countdown(countdown(n-1))\n"
   ]
  },
  {
   "cell_type": "code",
   "execution_count": 71,
   "id": "8fe50835-d72d-4217-98ff-991716da470c",
   "metadata": {},
   "outputs": [
    {
     "name": "stdout",
     "output_type": "stream",
     "text": [
      "50\n"
     ]
    }
   ],
   "source": [
    "def func(n):\n",
    "    if n>50:\n",
    "        return n-5\n",
    "    else:\n",
    "        return func(n+5)\n",
    "print(func(30))"
   ]
  },
  {
   "cell_type": "code",
   "execution_count": 73,
   "id": "819bf164-391d-4847-99d2-fb02d0f95a3f",
   "metadata": {},
   "outputs": [
    {
     "name": "stdout",
     "output_type": "stream",
     "text": [
      "288\n",
      "12\n"
     ]
    }
   ],
   "source": [
    "#Using super fact\n",
    "def sfact(n):\n",
    "    if n<=0:\n",
    "        return 1\n",
    "    return fact(n)*sfact(n-1)\n",
    "def fact(n):\n",
    "    if n<=1:\n",
    "        return 1\n",
    "    return n*fact(n-1)\n",
    "print(sfact(4))\n",
    "print(sfact(3))      "
   ]
  },
  {
   "cell_type": "code",
   "execution_count": 75,
   "id": "ffba0a2d-64c8-4ca1-980b-1e19ea3021ab",
   "metadata": {},
   "outputs": [
    {
     "name": "stdout",
     "output_type": "stream",
     "text": [
      "65536\n",
      "27\n"
     ]
    }
   ],
   "source": [
    "#Power Tower-Nested Recursion\n",
    "def pt(a,n):\n",
    "    if n==1:\n",
    "        return a\n",
    "    return a**pt(a,n-1)\n",
    "print(pt(2,4))\n",
    "print(pt(3,2))"
   ]
  },
  {
   "cell_type": "code",
   "execution_count": null,
   "id": "b1baa680-feee-43a7-af1e-73b00b0df138",
   "metadata": {},
   "outputs": [],
   "source": []
  }
 ],
 "metadata": {
  "kernelspec": {
   "display_name": "Python 3 (ipykernel)",
   "language": "python",
   "name": "python3"
  },
  "language_info": {
   "codemirror_mode": {
    "name": "ipython",
    "version": 3
   },
   "file_extension": ".py",
   "mimetype": "text/x-python",
   "name": "python",
   "nbconvert_exporter": "python",
   "pygments_lexer": "ipython3",
   "version": "3.12.7"
  }
 },
 "nbformat": 4,
 "nbformat_minor": 5
}
