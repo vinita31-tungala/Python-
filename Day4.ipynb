{
 "cells": [
  {
   "cell_type": "markdown",
   "id": "4243409f-4e85-4ce3-9d50-0d350c188a98",
   "metadata": {},
   "source": [
    "OOPS:\n",
    "Meta\n",
    "Multiple\n",
    "Hierarchy\n",
    "Multi-level\n",
    "Hybrid"
   ]
  },
  {
   "cell_type": "code",
   "execution_count": 3,
   "id": "cdab1c53-bd2d-4e9a-901a-64a57e5b1bbd",
   "metadata": {},
   "outputs": [
    {
     "name": "stdout",
     "output_type": "stream",
     "text": [
      "Base Class-2\n",
      "Base Class-1\n",
      "Derived class from both classes\n"
     ]
    }
   ],
   "source": [
    "#Multiple Inheritance\n",
    "class base1(object):  #1st base-class\n",
    "    def __init__(self):\n",
    "        super(base1,self).__init__()\n",
    "        print(\"Base Class-1\")\n",
    "class base2(object):  #2nd base-class\n",
    "    def __init__(self):\n",
    "        super(base2,self).__init__()\n",
    "        print(\"Base Class-2\")\n",
    "class derived(base1,base2):\n",
    "    def __init__(self):\n",
    "        super(derived,self).__init__()\n",
    "        print(\"Derived class from both classes\")\n",
    "d=derived()"
   ]
  },
  {
   "cell_type": "markdown",
   "id": "f5d08878-9bf6-4ead-9b8b-e51a3137a411",
   "metadata": {},
   "source": [
    " Initialize classes addition,multiplication in a caliculator\n",
    "and pass the values from main program to the super class where the subclasses addition and multiplication were trigged and return the outputs respectively.\n",
    "Constraints:\n",
    "1. take derived class calc\n",
    "2. from derived class call subclasses add and mul\n",
    "3. return the values after math to the subject\n",
    "4. Manual values of both numbers are considered within the object "
   ]
  },
  {
   "cell_type": "code",
   "execution_count": 9,
   "id": "6875900b-4a8d-457f-a21a-fd22dd547bae",
   "metadata": {},
   "outputs": [
    {
     "name": "stdin",
     "output_type": "stream",
     "text": [
      "Enter the value of a: 2\n",
      "Enter the value of b: 3\n"
     ]
    },
    {
     "name": "stdout",
     "output_type": "stream",
     "text": [
      "Addition is also initialized by receiving a,b from obj\n",
      "Multiplication is also initialized by receiving a,b from obj\n",
      "Calc class initalized\n",
      "Sum: 5\n",
      "Mul: 6\n"
     ]
    }
   ],
   "source": [
    "class addition():\n",
    "    def __init__(self,a,b):\n",
    "        self.a=a\n",
    "        self.b=b\n",
    "        print(\"Addition is also initialized by receiving a,b from obj\")\n",
    "    def add(self):\n",
    "        return self.a+self.b\n",
    "class multiplication():\n",
    "    def __init__(self,a,b):\n",
    "        self.a=a\n",
    "        self.b=b\n",
    "        print(\"Multiplication is also initialized by receiving a,b from obj\")\n",
    "    def mul(self):\n",
    "        return self.a*self.b\n",
    "class calc(addition,multiplication):\n",
    "    def __init__(self,a,b):\n",
    "        addition.__init__(self,a,b)\n",
    "        multiplication.__init__(self,a,b)\n",
    "        print(\"Calc class initalized\")\n",
    "x=int(input(\"Enter the value of a:\"))\n",
    "y=int(input(\"Enter the value of b:\"))\n",
    "c=calc(x,y)\n",
    "print(\"Sum:\",c.add())\n",
    "print(\"Mul:\",c.mul())\n",
    "      "
   ]
  },
  {
   "cell_type": "code",
   "execution_count": 19,
   "id": "fee63c81-4755-4445-a7ff-966f02536b8a",
   "metadata": {},
   "outputs": [
    {
     "name": "stdin",
     "output_type": "stream",
     "text": [
      "Enter the value of a: 2\n"
     ]
    },
    {
     "name": "stdout",
     "output_type": "stream",
     "text": [
      "Square of value is also initialized by receiving a from obj\n",
      "Cube of value is also initialized by receiving a from obj\n",
      "C class initalized\n",
      "The sum of square and cube value is: 12\n"
     ]
    }
   ],
   "source": [
    "#Exam question\n",
    "class square():\n",
    "    def __init__(self,a):\n",
    "        self.a=a\n",
    "        print(\"Square of value is also initialized by receiving a from obj\")\n",
    "    def get_square(self):\n",
    "        return self.a*self.a\n",
    "class cube():\n",
    "    def __init__(self,a):\n",
    "        self.a=a\n",
    "        print(\"Cube of value is also initialized by receiving a from obj\")\n",
    "    def get_cube(self):\n",
    "        return self.a*self.a*self.a\n",
    "class C(square,cube):\n",
    "    def __init__(self,a):\n",
    "        square.__init__(self,a)\n",
    "        cube.__init__(self,a)\n",
    "        print(\"C class initalized\")   \n",
    "x=int(input(\"Enter the value of a:\"))\n",
    "obj=C(x)\n",
    "total=obj.get_square()+obj.get_cube()\n",
    "print(\"The sum of square and cube value is:\",total)\n",
    "        \n",
    "    "
   ]
  },
  {
   "cell_type": "code",
   "execution_count": 15,
   "id": "3f71af31-b81b-4fba-8b78-14406b8a2a1b",
   "metadata": {},
   "outputs": [
    {
     "name": "stdout",
     "output_type": "stream",
     "text": [
      "name...\n",
      "Phd\n",
      "experience... 15 years\n"
     ]
    }
   ],
   "source": [
    "#Multi-Level Inheritance\n",
    "class person():\n",
    "    def name(self):\n",
    "        print(\"name...\")\n",
    "class teacher(person):  #derived class\n",
    "    def qualification(self):\n",
    "        print(\"Phd\")\n",
    "class hod(teacher):\n",
    "    def exp(self):\n",
    "        print(\"experience... 15 years\")\n",
    "head=hod()\n",
    "head.name()\n",
    "head.qualification()\n",
    "head.exp()"
   ]
  },
  {
   "cell_type": "code",
   "execution_count": 25,
   "id": "f94db316-b469-43f4-897d-618cebae2dc5",
   "metadata": {},
   "outputs": [
    {
     "name": "stdout",
     "output_type": "stream",
     "text": [
      "Number initialized\n",
      "Square: 16\n",
      "Cube: 64\n"
     ]
    }
   ],
   "source": [
    "#multi-level inheritance cubes and squares of an obj\n",
    "class num():\n",
    "    def __init__(self,n):\n",
    "        self.n=n\n",
    "        print(\"Number initialized\")\n",
    "class sq(num):\n",
    "    def square(self):\n",
    "        return self.n**2\n",
    "class cu(sq):\n",
    "    def cube(self):\n",
    "        return self.n**3\n",
    "calc=cu(4)\n",
    "print(\"Square:\",calc.square())\n",
    "print(\"Cube:\",calc.cube())"
   ]
  },
  {
   "cell_type": "code",
   "execution_count": 29,
   "id": "3a486da7-2239-4108-8b9e-b73dc03a98d1",
   "metadata": {},
   "outputs": [
    {
     "name": "stdout",
     "output_type": "stream",
     "text": [
      "Double: 8\n",
      "Triple: 12\n"
     ]
    }
   ],
   "source": [
    "#hierarchy Inheritance\n",
    "class number():\n",
    "    def __init__(self,num):\n",
    "        self.num=num\n",
    "    def get_number(self):\n",
    "        return self.num\n",
    "class double(number):\n",
    "        def result(self):\n",
    "            return self.get_number()*2\n",
    "class triple(number):\n",
    "        def result(self):\n",
    "            return self.get_number()*3\n",
    "d=double(4)\n",
    "print(\"Double:\",d.result())\n",
    "t=triple(4)\n",
    "print(\"Triple:\",t.result())"
   ]
  },
  {
   "cell_type": "code",
   "execution_count": 33,
   "id": "b0fea131-34a9-4bc9-9e96-094009740ce5",
   "metadata": {},
   "outputs": [
    {
     "name": "stdout",
     "output_type": "stream",
     "text": [
      "Sweet Vitamin-A Yellow\n",
      "Sour & Sweet Orange Vitamin-C\n"
     ]
    }
   ],
   "source": [
    "#Abstract Class\n",
    "class fruit():\n",
    "    def taste(self):\n",
    "        raise NotImplementedError()\n",
    "    def vitamin(self):\n",
    "        raise NotImplementedError()\n",
    "    def color(self):\n",
    "        raise NotImplementedError()\n",
    "class mango(fruit):\n",
    "    def taste(self):\n",
    "        return \"Sweet\"\n",
    "    def vitamin(self):\n",
    "        return \"Vitamin-A\"\n",
    "    def color(self):\n",
    "        return \"Yellow\"\n",
    "class orange(fruit):\n",
    "    def taste(self):\n",
    "        return \"Sour & Sweet\"\n",
    "    def vitamin(self):\n",
    "        return \"Vitamin-C\"\n",
    "    def color(self):\n",
    "        return \"Orange\"\n",
    "Alphanso=mango()\n",
    "print(Alphanso.taste(),Alphanso.vitamin(),Alphanso.color())\n",
    "org=orange()\n",
    "print(org.taste(),org.color(),org.vitamin())"
   ]
  },
  {
   "cell_type": "code",
   "execution_count": null,
   "id": "53f99618-62a0-48a8-8396-6540d92a6b43",
   "metadata": {},
   "outputs": [],
   "source": []
  }
 ],
 "metadata": {
  "kernelspec": {
   "display_name": "Python 3 (ipykernel)",
   "language": "python",
   "name": "python3"
  },
  "language_info": {
   "codemirror_mode": {
    "name": "ipython",
    "version": 3
   },
   "file_extension": ".py",
   "mimetype": "text/x-python",
   "name": "python",
   "nbconvert_exporter": "python",
   "pygments_lexer": "ipython3",
   "version": "3.12.7"
  }
 },
 "nbformat": 4,
 "nbformat_minor": 5
}
