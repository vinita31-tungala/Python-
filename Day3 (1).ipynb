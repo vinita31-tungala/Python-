{
 "cells": [
  {
   "cell_type": "code",
   "execution_count": 7,
   "id": "dcc3b819-0cfc-436d-8f7a-fcbcded5df32",
   "metadata": {},
   "outputs": [
    {
     "name": "stdout",
     "output_type": "stream",
     "text": [
      "from class method,var= 100\n"
     ]
    }
   ],
   "source": [
    "#private method usage\n",
    "class abc():\n",
    "    def __init__(self,var):\n",
    "        self.__var=var\n",
    "    def __display(self):\n",
    "        print(\"from class method,var=\",self.__var)\n",
    "obj=abc(100)\n",
    "obj._abc__display()"
   ]
  },
  {
   "cell_type": "code",
   "execution_count": 13,
   "id": "4eede398-e4e8-4b54-baca-4d5014828411",
   "metadata": {},
   "outputs": [
    {
     "name": "stdout",
     "output_type": "stream",
     "text": [
      "var is: 15\n"
     ]
    }
   ],
   "source": [
    "#code to call a class mathod from another method in the same class\n",
    "class abc():\n",
    "    def __init__(self,var):\n",
    "        self.var=var\n",
    "    def display(self):\n",
    "        print(\"var is:\",self.var)\n",
    "    def add_value(self):\n",
    "        self.var+=5\n",
    "        self.display()\n",
    "obj=abc(10)\n",
    "obj.add_value()"
   ]
  },
  {
   "cell_type": "code",
   "execution_count": 15,
   "id": "e0f74b05-ec06-4fce-b01d-1f28a91bb47e",
   "metadata": {},
   "outputs": [
    {
     "name": "stdout",
     "output_type": "stream",
     "text": [
      "var is: 10\n",
      "var is: 100\n"
     ]
    }
   ],
   "source": [
    "#class method,which calls a function defined global namespace\n",
    "def aaa(x):\n",
    "    return x*10\n",
    "class abc():\n",
    "    def __init__(self,var):\n",
    "        self.var=var\n",
    "    def display(self):\n",
    "        print(\"var is:\",self.var)\n",
    "    def modify(self):\n",
    "        self.var=aaa(self.var)\n",
    "obj=abc(10)\n",
    "obj.display()\n",
    "obj.modify()\n",
    "obj.display()"
   ]
  },
  {
   "cell_type": "markdown",
   "id": "769cae8e-9e7f-47a1-aa3c-5d6444bd1c02",
   "metadata": {},
   "source": [
    "builtin functions - get ,set , delete\n",
    "getattr() ,setattr() ,deleteattr()"
   ]
  },
  {
   "cell_type": "code",
   "execution_count": 19,
   "id": "268d4215-4b45-4632-a57c-bc16b59b1f0c",
   "metadata": {},
   "outputs": [
    {
     "name": "stdout",
     "output_type": "stream",
     "text": [
      "var is: 10\n",
      "obj has attribute var True\n",
      "After setting value,var is: 55\n",
      "New variable count is created with value 10\n"
     ]
    },
    {
     "ename": "AttributeError",
     "evalue": "'abc' object has no attribute 'var'",
     "output_type": "error",
     "traceback": [
      "\u001b[1;31m---------------------------------------------------------------------------\u001b[0m",
      "\u001b[1;31mAttributeError\u001b[0m                            Traceback (most recent call last)",
      "Cell \u001b[1;32mIn[19], line 15\u001b[0m\n\u001b[0;32m     13\u001b[0m \u001b[38;5;28mprint\u001b[39m(\u001b[38;5;124m\"\u001b[39m\u001b[38;5;124mNew variable count is created with value\u001b[39m\u001b[38;5;124m\"\u001b[39m,obj\u001b[38;5;241m.\u001b[39mcount)\n\u001b[0;32m     14\u001b[0m \u001b[38;5;28mdelattr\u001b[39m(obj,\u001b[38;5;124m'\u001b[39m\u001b[38;5;124mvar\u001b[39m\u001b[38;5;124m'\u001b[39m)\n\u001b[1;32m---> 15\u001b[0m \u001b[38;5;28mprint\u001b[39m(\u001b[38;5;124m\"\u001b[39m\u001b[38;5;124mafter deleting\u001b[39m\u001b[38;5;124m\"\u001b[39m,obj\u001b[38;5;241m.\u001b[39mvar)\n",
      "\u001b[1;31mAttributeError\u001b[0m: 'abc' object has no attribute 'var'"
     ]
    }
   ],
   "source": [
    "class abc():\n",
    "    def __init__(self,var):\n",
    "        self.var=var\n",
    "    def display(self):\n",
    "        print(\"var is:\",self.var)   \n",
    "obj=abc(10)\n",
    "obj.display()\n",
    "print(\"obj has attribute var\",hasattr(obj,'var'))\n",
    "getattr(obj,'var')\n",
    "setattr(obj, 'var',55)\n",
    "print(\"After setting value,var is:\",obj.var)\n",
    "setattr(obj,'count',10)\n",
    "print(\"New variable count is created with value\",obj.count)\n",
    "delattr(obj,'var')\n",
    "print(\"after deleting\",obj.var)"
   ]
  },
  {
   "cell_type": "markdown",
   "id": "2a16ccba-27f6-4842-a8ea-87dd280b9144",
   "metadata": {},
   "source": [
    "Builtin class attribute\n",
    "1. .__doc__ --- when string doc is not specified no return of attributes\n",
    "2. .__dict__ --- namespace accessed attributes\n",
    "3. .__name__ ---returns class attributes name\n",
    "4. .__bases__ --- inheritance\n",
    "5. .__module__"
   ]
  },
  {
   "cell_type": "code",
   "execution_count": 27,
   "id": "2c1c1fc9-e921-4b9e-b185-8e0d936bcb8f",
   "metadata": {},
   "outputs": [
    {
     "name": "stdout",
     "output_type": "stream",
     "text": [
      "var1: 10\n",
      "var2: 12.345\n",
      "object.__dict__: {'v1': 10, 'v2': 12.345}\n",
      "object.__doc__: None\n",
      "class.__name__: abc\n",
      "object.__module__: __main__\n",
      "class.__bases__: (<class 'object'>,)\n"
     ]
    }
   ],
   "source": [
    "class abc():\n",
    "    def __init__(self,v1,v2):\n",
    "        self.v1=v1\n",
    "        self.v2=v2\n",
    "    def display(self):\n",
    "        print(\"var1:\",self.v1)\n",
    "        print(\"var2:\",self.v2)\n",
    "obj=abc(10,12.345)\n",
    "obj.display()\n",
    "print(\"object.__dict__:\",obj.__dict__)\n",
    "print(\"object.__doc__:\",obj.__doc__)\n",
    "print(\"class.__name__:\",abc.__name__)\n",
    "print(\"object.__module__:\",obj.__module__)\n",
    "print(\"class.__bases__:\",abc.__bases__)"
   ]
  },
  {
   "cell_type": "markdown",
   "id": "a7284e9c-97c3-4ccc-8a33-5aa0307be7a2",
   "metadata": {},
   "source": [
    "Program that uses class as student to store the name and marks of the student,use a list to store the marks of 3 objects.\n",
    "Constraints:\n",
    "1.take a class as student\n",
    "2.create a constructor for the student name\n",
    "3.create a function for marks,to be entered manually with in that class function and add the marks to the list\n",
    "4.display then student name and the marks he/she got\n",
    "5.pass the object's attributes of two student names\n",
    "Testcases:\n",
    "obj1:\"Ram\"\n",
    "obj2:\"Sita\"\n",
    "Outpu:ram got [88,89,90] sita got [77,80,89]"
   ]
  },
  {
   "cell_type": "code",
   "execution_count": 29,
   "id": "5a395390-ad18-4e1e-ba45-3c3373570538",
   "metadata": {},
   "outputs": [
    {
     "name": "stdout",
     "output_type": "stream",
     "text": [
      "Enter Ram marks in 1 subject: 88\n",
      "Enter Ram marks in 2 subject: 89\n",
      "Enter Ram marks in 3 subject: 90\n",
      "Enter Sita marks in 1 subject: 77\n",
      "Enter Sita marks in 2 subject: 80\n",
      "Enter Sita marks in 3 subject: 89\n"
     ]
    },
    {
     "name": "stdout",
     "output_type": "stream",
     "text": [
      "Ram got [88, 89, 90]\n",
      "Sita got [77, 80, 89]\n"
     ]
    }
   ],
   "source": [
    "class student():\n",
    "    def __init__(self,name):\n",
    "        self.name=name\n",
    "        self.marks=[]\n",
    "    def entermarks(self):\n",
    "        for i in range(3):\n",
    "            m=int(input(\"Enter %s marks in %d subject:\" %(self.name,i+1)))\n",
    "            self.marks.append(m)\n",
    "    def display(self):\n",
    "        print(self.name,\"got\",self.marks)        \n",
    "s1=student(\"Ram\")\n",
    "s1.entermarks()\n",
    "s2=student(\"Sita\")\n",
    "s2.entermarks()\n",
    "s1.display()\n",
    "s2.display()"
   ]
  },
  {
   "cell_type": "markdown",
   "id": "00ae118d-37d3-404d-98a2-197a83e249e4",
   "metadata": {},
   "source": [
    "Program that has a class circle,use a class variable to define the value  of constant pi.\n",
    "Use this class variable to calculate the area and circumference of the circle with specified radius.\n",
    "Constraints:\n",
    "Pi with the class variable as 3.14159\n",
    "radius=7.5\n",
    "return the area and circumference values to main program by creating function with in the class respectively."
   ]
  },
  {
   "cell_type": "code",
   "execution_count": 7,
   "id": "5b4133ab-30e9-4ed4-9e7b-e7d52db71f77",
   "metadata": {},
   "outputs": [
    {
     "name": "stdout",
     "output_type": "stream",
     "text": [
      "Area: 176.7144375\n",
      "Circumference: 47.12385\n"
     ]
    }
   ],
   "source": [
    "class Circle():\n",
    "    def __init__(self,pi,radius):\n",
    "        self.pi=pi\n",
    "        self.radius=radius\n",
    "    def area(self):\n",
    "        return self.pi*(self.radius**2)\n",
    "    def circumference(self):\n",
    "        return 2*self.pi*self.radius\n",
    "pi=3.14159\n",
    "radius=7.5\n",
    "circle=Circle(pi,radius)\n",
    "print(\"Area:\",circle.area())\n",
    "print(\"Circumference:\",circle.circumference())\n"
   ]
  },
  {
   "cell_type": "code",
   "execution_count": null,
   "id": "c8f41c37-4c8b-468a-b27a-680c4db43a5a",
   "metadata": {},
   "outputs": [],
   "source": []
  }
 ],
 "metadata": {
  "kernelspec": {
   "display_name": "Python 3 (ipykernel)",
   "language": "python",
   "name": "python3"
  },
  "language_info": {
   "codemirror_mode": {
    "name": "ipython",
    "version": 3
   },
   "file_extension": ".py",
   "mimetype": "text/x-python",
   "name": "python",
   "nbconvert_exporter": "python",
   "pygments_lexer": "ipython3",
   "version": "3.12.7"
  }
 },
 "nbformat": 4,
 "nbformat_minor": 5
}
