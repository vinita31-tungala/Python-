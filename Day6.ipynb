{
 "cells": [
  {
   "cell_type": "markdown",
   "id": "e7677d6b-06cd-4406-a770-2a161b018588",
   "metadata": {},
   "source": [
    "Errors and Exceptions\n",
    "types of errors/exceptions\n",
    "try-blocks\n",
    "except\n",
    "finally\n",
    "raising exception\n",
    "built-in functions"
   ]
  },
  {
   "cell_type": "code",
   "execution_count": 1,
   "id": "330aeeb6-803e-465f-b90f-5cb255a8270a",
   "metadata": {},
   "outputs": [
    {
     "ename": "ZeroDivisionError",
     "evalue": "division by zero",
     "output_type": "error",
     "traceback": [
      "\u001b[1;31m---------------------------------------------------------------------------\u001b[0m",
      "\u001b[1;31mZeroDivisionError\u001b[0m                         Traceback (most recent call last)",
      "Cell \u001b[1;32mIn[1], line 1\u001b[0m\n\u001b[1;32m----> 1\u001b[0m \u001b[38;5;28mprint\u001b[39m(\u001b[38;5;241m5\u001b[39m\u001b[38;5;241m/\u001b[39m\u001b[38;5;241m0\u001b[39m)\n",
      "\u001b[1;31mZeroDivisionError\u001b[0m: division by zero"
     ]
    }
   ],
   "source": [
    "#Zero division error\n",
    "print(5/0)"
   ]
  },
  {
   "cell_type": "code",
   "execution_count": 3,
   "id": "0dd57da1-eceb-455c-b6be-b1d6a2a15096",
   "metadata": {},
   "outputs": [
    {
     "ename": "NameError",
     "evalue": "name 'var' is not defined",
     "output_type": "error",
     "traceback": [
      "\u001b[1;31m---------------------------------------------------------------------------\u001b[0m",
      "\u001b[1;31mNameError\u001b[0m                                 Traceback (most recent call last)",
      "Cell \u001b[1;32mIn[3], line 1\u001b[0m\n\u001b[1;32m----> 1\u001b[0m \u001b[38;5;28mprint\u001b[39m(var\u001b[38;5;241m+\u001b[39m\u001b[38;5;241m10\u001b[39m)\n",
      "\u001b[1;31mNameError\u001b[0m: name 'var' is not defined"
     ]
    }
   ],
   "source": [
    "#Name error\n",
    "print(var+10)"
   ]
  },
  {
   "cell_type": "code",
   "execution_count": 7,
   "id": "64dd9aca-b7bc-41a7-bdca-33efa98d68be",
   "metadata": {},
   "outputs": [
    {
     "ename": "TypeError",
     "evalue": "unsupported operand type(s) for +: 'type' and 'int'",
     "output_type": "error",
     "traceback": [
      "\u001b[1;31m---------------------------------------------------------------------------\u001b[0m",
      "\u001b[1;31mTypeError\u001b[0m                                 Traceback (most recent call last)",
      "Cell \u001b[1;32mIn[7], line 1\u001b[0m\n\u001b[1;32m----> 1\u001b[0m \u001b[38;5;28mprint\u001b[39m(\u001b[38;5;28mstr\u001b[39m\u001b[38;5;241m+\u001b[39m\u001b[38;5;241m12\u001b[39m)\n",
      "\u001b[1;31mTypeError\u001b[0m: unsupported operand type(s) for +: 'type' and 'int'"
     ]
    }
   ],
   "source": [
    "#Type error\n",
    "print(str+12)"
   ]
  },
  {
   "cell_type": "code",
   "execution_count": 11,
   "id": "a594fac0-3395-4b60-ac88-ab2c3f9590eb",
   "metadata": {},
   "outputs": [
    {
     "name": "stdin",
     "output_type": "stream",
     "text": [
      "Enter the numerator: 5\n",
      "Enter the denominator: 0\n"
     ]
    },
    {
     "name": "stdout",
     "output_type": "stream",
     "text": [
      "Denominator cannot be zero\n"
     ]
    }
   ],
   "source": [
    "#handling zero division error\n",
    "num=int(input(\"Enter the numerator:\"))\n",
    "deno=int(input(\"Enter the denominator:\"))\n",
    "try:\n",
    "    quo=num/deno\n",
    "    print(\"Quotient:\",quo)\n",
    "except ZeroDivisionError:\n",
    "    print(\"Denominator cannot be zero\")"
   ]
  },
  {
   "cell_type": "code",
   "execution_count": 23,
   "id": "a391faf9-979a-4900-bc94-c9d5cb7412e9",
   "metadata": {},
   "outputs": [
    {
     "name": "stdin",
     "output_type": "stream",
     "text": [
      "Enter a number me\n"
     ]
    },
    {
     "name": "stdout",
     "output_type": "stream",
     "text": [
      "Please check before you enter.. program end\n",
      "Bye\n"
     ]
    }
   ],
   "source": [
    "#Multiple Exception Handling\n",
    "try:\n",
    "    num=int(input(\"Enter a number\"))\n",
    "    print(num**2)\n",
    "except(KeyboardInterrupt):\n",
    "    print(\"You have to enter a number... not string\")\n",
    "except(ValueError):\n",
    "    print(\"Please check before you enter.. program end\")\n",
    "print(\"Bye\")"
   ]
  },
  {
   "cell_type": "code",
   "execution_count": 33,
   "id": "29c0d81d-9604-4b67-af78-d07fe38cee42",
   "metadata": {},
   "outputs": [
    {
     "name": "stdin",
     "output_type": "stream",
     "text": [
      "Enter a number: $\n"
     ]
    },
    {
     "name": "stdout",
     "output_type": "stream",
     "text": [
      "Please check before entering.. program end\n"
     ]
    }
   ],
   "source": [
    "#Multiple Exception in a single block Handling\n",
    "try:\n",
    "    num=int(input(\"Enter a number:\"))\n",
    "    print(num**2)\n",
    "except(KeyboardInterrupt,ValueError,TypeError):\n",
    "    print(\"Please check before entering.. program end\")"
   ]
  },
  {
   "cell_type": "code",
   "execution_count": 41,
   "id": "014d3d93-0f19-4a9b-a25c-94fd94c4c52c",
   "metadata": {},
   "outputs": [
    {
     "name": "stdout",
     "output_type": "stream",
     "text": [
      "3\n",
      "even executing perfectly... exception raised manually\n"
     ]
    }
   ],
   "source": [
    "#Raise an Exception\n",
    "try:\n",
    "    num=3\n",
    "    print(num)\n",
    "    raise ValueError\n",
    "except:\n",
    "    print(\"even executing perfectly... exception raised manually\")"
   ]
  },
  {
   "cell_type": "code",
   "execution_count": 43,
   "id": "9df6e672-5474-4f5b-b7ff-45d3f5379e03",
   "metadata": {},
   "outputs": [
    {
     "name": "stdout",
     "output_type": "stream",
     "text": [
      "re-raise\n"
     ]
    },
    {
     "ename": "NameError",
     "evalue": "",
     "output_type": "error",
     "traceback": [
      "\u001b[1;31m---------------------------------------------------------------------------\u001b[0m",
      "\u001b[1;31mNameError\u001b[0m                                 Traceback (most recent call last)",
      "Cell \u001b[1;32mIn[43], line 3\u001b[0m\n\u001b[0;32m      1\u001b[0m \u001b[38;5;66;03m#re-=raising an error\u001b[39;00m\n\u001b[0;32m      2\u001b[0m \u001b[38;5;28;01mtry\u001b[39;00m:\n\u001b[1;32m----> 3\u001b[0m     \u001b[38;5;28;01mraise\u001b[39;00m \u001b[38;5;167;01mNameError\u001b[39;00m\n\u001b[0;32m      4\u001b[0m \u001b[38;5;28;01mexcept\u001b[39;00m:\n\u001b[0;32m      5\u001b[0m     \u001b[38;5;28mprint\u001b[39m(\u001b[38;5;124m\"\u001b[39m\u001b[38;5;124mre-raise\u001b[39m\u001b[38;5;124m\"\u001b[39m)\n",
      "\u001b[1;31mNameError\u001b[0m: "
     ]
    }
   ],
   "source": [
    "#re-=raising an error\n",
    "try:\n",
    "    raise NameError\n",
    "except:\n",
    "    print(\"re-raise\")\n",
    "    raise"
   ]
  },
  {
   "cell_type": "code",
   "execution_count": 73,
   "id": "26e0ae9b-5f94-48b6-8dd8-55e9ec38f31b",
   "metadata": {},
   "outputs": [
    {
     "name": "stdout",
     "output_type": "stream",
     "text": [
      "<class 'Exception'>\n",
      "('hi', 'students')\n",
      "('hi', 'students')\n",
      "Assigned1: hi\n",
      "Assigned2: students\n"
     ]
    }
   ],
   "source": [
    "#instance using in exceptions\n",
    "try: raise Exception('hi','students')\n",
    "except Exception as errorObj:\n",
    "    print(type(errorObj))\n",
    "    print(errorObj.args)\n",
    "    print(errorObj)\n",
    "    x,y=errorObj.args\n",
    "    print(\"Assigned1:\",x)\n",
    "    print(\"Assigned2:\",y)"
   ]
  },
  {
   "cell_type": "code",
   "execution_count": 81,
   "id": "73849b84-23b7-4399-b3c2-10fdf43fd594",
   "metadata": {},
   "outputs": [
    {
     "name": "stdin",
     "output_type": "stream",
     "text": [
      "Enter numerator: 4\n",
      "Enter deninomenator: 2\n"
     ]
    },
    {
     "name": "stdout",
     "output_type": "stream",
     "text": [
      "2.0\n"
     ]
    }
   ],
   "source": [
    "def div(n,d):\n",
    "    try:\n",
    "        q=n/d\n",
    "        print(q)\n",
    "    except ZeroDivisionError:\n",
    "        print(\"non-processed\")\n",
    "a=int(input(\"Enter numerator:\"))\n",
    "b=int(input(\"Enter deninomenator:\"))\n",
    "div(a,b)"
   ]
  },
  {
   "cell_type": "markdown",
   "id": "3233789b-5d2a-4641-a4c7-d76493113798",
   "metadata": {},
   "source": [
    "built-in ->Exception - base class,for all exceptions \n",
    "SystemExit - sys.exit()\n",
    "StandardError - except sys.exit()/StopIteration\n",
    "OverflowError - numeric type errors exceeds limit\n",
    "ArithmeticError - base class for all calc\n",
    "IOError - import file error\n",
    "ImportError\n",
    "KeyError\n",
    "EnvironmentError\n",
    "IndexError\n",
    "StopIterationError\n",
    "EOFError\n",
    "LookupError\n",
    "SyntaxError\n",
    "SystemError\n",
    "IndendationError\n",
    "AttributeError\n",
    "FileNotFoundError"
   ]
  },
  {
   "cell_type": "code",
   "execution_count": 95,
   "id": "11d0a378-85f6-43da-b339-ff40f486f65d",
   "metadata": {},
   "outputs": [
    {
     "name": "stdout",
     "output_type": "stream",
     "text": [
      "returned string is: 99\n",
      "<class 'int'>\n"
     ]
    }
   ],
   "source": [
    "class myError(Exception):\n",
    "    def __init__(self,val):\n",
    "        self.val=val\n",
    "    def __str__(self):\n",
    "        return repr(self.val)  #Here 99 is not converting into string,99 integer value is represented as string using __str__ constructor\n",
    "try:\n",
    "    raise myError(99) \n",
    "except myError as e:\n",
    "    print(\"returned string is:\",e.val)\n",
    "    print(type(e.val))"
   ]
  },
  {
   "cell_type": "code",
   "execution_count": 97,
   "id": "db067a4e-b925-43d1-b5f2-0c6c1298231c",
   "metadata": {},
   "outputs": [
    {
     "name": "stdout",
     "output_type": "stream",
     "text": [
      "raise exception\n",
      "performing cleanup by finally\n"
     ]
    },
    {
     "ename": "ValueError",
     "evalue": "",
     "output_type": "error",
     "traceback": [
      "\u001b[1;31m---------------------------------------------------------------------------\u001b[0m",
      "\u001b[1;31mValueError\u001b[0m                                Traceback (most recent call last)",
      "Cell \u001b[1;32mIn[97], line 3\u001b[0m\n\u001b[0;32m      1\u001b[0m \u001b[38;5;28;01mtry\u001b[39;00m:\n\u001b[0;32m      2\u001b[0m     \u001b[38;5;28mprint\u001b[39m(\u001b[38;5;124m'\u001b[39m\u001b[38;5;124mraise exception\u001b[39m\u001b[38;5;124m'\u001b[39m)\n\u001b[1;32m----> 3\u001b[0m     \u001b[38;5;28;01mraise\u001b[39;00m \u001b[38;5;167;01mValueError\u001b[39;00m\n\u001b[0;32m      4\u001b[0m \u001b[38;5;28;01mfinally\u001b[39;00m:\n\u001b[0;32m      5\u001b[0m     \u001b[38;5;28mprint\u001b[39m(\u001b[38;5;124m\"\u001b[39m\u001b[38;5;124mperforming cleanup by finally\u001b[39m\u001b[38;5;124m\"\u001b[39m)\n",
      "\u001b[1;31mValueError\u001b[0m: "
     ]
    }
   ],
   "source": [
    "#Finally\n",
    "try:\n",
    "    print('raise exception')\n",
    "    raise ValueError\n",
    "finally:\n",
    "    print(\"performing cleanup by finally\")"
   ]
  },
  {
   "cell_type": "code",
   "execution_count": 101,
   "id": "6d7b5f98-40ec-4f04-96f3-dc825cd1515a",
   "metadata": {},
   "outputs": [
    {
     "name": "stdout",
     "output_type": "stream",
     "text": [
      "abc\n",
      "123\n",
      "abc123\n"
     ]
    }
   ],
   "source": [
    "#simple finally program\n",
    "try:\n",
    "    print(\"abc\")  #raise exception\n",
    "    raise ValueError\n",
    "except:\n",
    "    print('123')  #receive exception\n",
    "finally:\n",
    "    print('abc123')  #ignore process"
   ]
  },
  {
   "cell_type": "code",
   "execution_count": null,
   "id": "866c5c02-f579-4975-b655-0ef9262139af",
   "metadata": {},
   "outputs": [
    {
     "name": "stdout",
     "output_type": "stream",
     "text": [
      "\n",
      " ==== Calculator Menu ==== \n",
      "\n",
      "1.Addition(+)\n",
      "2.Subtract(-)\n",
      "3.Multiply(*)\n",
      "4.Division(/)\n",
      "5.Modulo(%)\n",
      "6.Exponent(**)\n",
      "7.Floor Division(//)\n",
      "Exit\n"
     ]
    },
    {
     "name": "stdin",
     "output_type": "stream",
     "text": [
      "select an operation(1-8): 1\n",
      "Enter 1st number: 2\n",
      "Enter 2nd number: 3\n"
     ]
    },
    {
     "name": "stdout",
     "output_type": "stream",
     "text": [
      "Result: 5.0\n",
      "\n",
      " ==== Calculator Menu ==== \n",
      "\n",
      "1.Addition(+)\n",
      "2.Subtract(-)\n",
      "3.Multiply(*)\n",
      "4.Division(/)\n",
      "5.Modulo(%)\n",
      "6.Exponent(**)\n",
      "7.Floor Division(//)\n",
      "Exit\n"
     ]
    },
    {
     "name": "stdin",
     "output_type": "stream",
     "text": [
      "select an operation(1-8): 5\n",
      "Enter 1st number: 4\n",
      "Enter 2nd number: 2\n"
     ]
    },
    {
     "name": "stdout",
     "output_type": "stream",
     "text": [
      "Result: 0.0\n",
      "\n",
      " ==== Calculator Menu ==== \n",
      "\n",
      "1.Addition(+)\n",
      "2.Subtract(-)\n",
      "3.Multiply(*)\n",
      "4.Division(/)\n",
      "5.Modulo(%)\n",
      "6.Exponent(**)\n",
      "7.Floor Division(//)\n",
      "Exit\n"
     ]
    },
    {
     "name": "stdin",
     "output_type": "stream",
     "text": [
      "select an operation(1-8): 7\n",
      "Enter 1st number: 6\n",
      "Enter 2nd number: 7\n"
     ]
    },
    {
     "name": "stdout",
     "output_type": "stream",
     "text": [
      "Result: 0.0\n",
      "\n",
      " ==== Calculator Menu ==== \n",
      "\n",
      "1.Addition(+)\n",
      "2.Subtract(-)\n",
      "3.Multiply(*)\n",
      "4.Division(/)\n",
      "5.Modulo(%)\n",
      "6.Exponent(**)\n",
      "7.Floor Division(//)\n",
      "Exit\n"
     ]
    }
   ],
   "source": [
    "#Interactive calc model with python operation\n",
    "'''using class exceptions modules'''\n",
    "class Calculator():\n",
    "    def __init__(self):\n",
    "        self.one=0\n",
    "        self.two=0\n",
    "    def input_numbers(self):\n",
    "        try:\n",
    "            self.one=float(input(\"Enter 1st number:\"))\n",
    "            self.two=float(input(\"Enter 2nd number:\"))\n",
    "        except ValueError:\n",
    "            print(\"Invalid input... please enter numbers\")\n",
    "            self.input_numbers()\n",
    "    def add(self):\n",
    "        return self.one+self.two\n",
    "    def subtract(self):\n",
    "        return self.one-self.two\n",
    "    def multiply(self):\n",
    "        return self.one*self.two\n",
    "    def divide(self):\n",
    "        if self.two==0:\n",
    "            raise ZeroDivisionError(\"cannot divide with zero\")\n",
    "        return self.one/self.two\n",
    "    def modulo(self):\n",
    "        return self.one%self.two\n",
    "    def expo(self):\n",
    "        return self.one**self.two\n",
    "    def floor_divide(self):\n",
    "        return self.one//self.two\n",
    "def display_menu():\n",
    "    print(\"\\n ==== Calculator Menu ==== \\n\")\n",
    "    print(\"1.Addition(+)\")\n",
    "    print(\"2.Subtract(-)\")\n",
    "    print(\"3.Multiply(*)\")\n",
    "    print(\"4.Division(/)\")\n",
    "    print(\"5.Modulo(%)\")\n",
    "    print(\"6.Exponent(**)\")\n",
    "    print(\"7.Floor Division(//)\")\n",
    "    print(\"Exit\")\n",
    "def main():\n",
    "    calc=Calculator()\n",
    "    while True:\n",
    "        display_menu()\n",
    "        choice=input(\"select an operation(1-8):\")\n",
    "        if choice=='8':\n",
    "            print(\"Exit\")\n",
    "            break\n",
    "        calc.input_numbers()\n",
    "        try:\n",
    "            if choice=='1':\n",
    "                print(\"Result:\",calc.add())\n",
    "            elif choice=='2':\n",
    "                print(\"Result:\",calc.subtract())\n",
    "            elif choice=='3':\n",
    "                print(\"Result:\",calc.multiply())\n",
    "            elif choice=='4':\n",
    "                print(\"Result:\",calc.divide())\n",
    "            elif choice=='5':\n",
    "                print(\"Result:\",calc.modulo())\n",
    "            elif choice=='6':\n",
    "                print(\"Result:\",calc.expo())\n",
    "            elif choice=='7':\n",
    "                print(\"Result:\",calc.floor_divide())\n",
    "            else:\n",
    "                print(\"Invalid choice,select from 1-8\")\n",
    "        except ZeroDivisionError as e:\n",
    "            print(\"Error:\",e)\n",
    "        except Exception as e:\n",
    "            print(\"Unexpected Error\",e)\n",
    "main()\n",
    "                "
   ]
  },
  {
   "cell_type": "code",
   "execution_count": null,
   "id": "3d7a418c-e350-4721-8866-187050fa5568",
   "metadata": {},
   "outputs": [],
   "source": []
  }
 ],
 "metadata": {
  "kernelspec": {
   "display_name": "Python 3 (ipykernel)",
   "language": "python",
   "name": "python3"
  },
  "language_info": {
   "codemirror_mode": {
    "name": "ipython",
    "version": 3
   },
   "file_extension": ".py",
   "mimetype": "text/x-python",
   "name": "python",
   "nbconvert_exporter": "python",
   "pygments_lexer": "ipython3",
   "version": "3.12.7"
  }
 },
 "nbformat": 4,
 "nbformat_minor": 5
}
