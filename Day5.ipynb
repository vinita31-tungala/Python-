{
 "cells": [
  {
   "cell_type": "code",
   "execution_count": 9,
   "id": "5dcb922a-a620-4bb2-90a7-856e97caf067",
   "metadata": {},
   "outputs": [
    {
     "name": "stdout",
     "output_type": "stream",
     "text": [
      "hello Vinni\n",
      "hello Vinita\n"
     ]
    }
   ],
   "source": [
    "#Overloading Sample\n",
    "def hi(name='Vinni'):\n",
    "    print(\"hello\",name)\n",
    "hi()\n",
    "hi('Vinita')"
   ]
  },
  {
   "cell_type": "code",
   "execution_count": 15,
   "id": "6a1609fc-93c0-436d-80f0-4d3ef868723c",
   "metadata": {},
   "outputs": [
    {
     "name": "stdout",
     "output_type": "stream",
     "text": [
      "20\n"
     ]
    }
   ],
   "source": [
    "#Multiple arg overloading\n",
    "def abc(*args):\n",
    "    return sum(args)\n",
    "print(abc(12,5,3))"
   ]
  },
  {
   "cell_type": "code",
   "execution_count": 19,
   "id": "f9168c27-e930-4965-83ee-f4a3991d8fdb",
   "metadata": {},
   "outputs": [
    {
     "name": "stdout",
     "output_type": "stream",
     "text": [
      "no data\n",
      "Name:name\n",
      "Name:Vinita,Age:20\n"
     ]
    },
    {
     "data": {
      "text/plain": [
       "<__main__.student at 0x240b330c2c0>"
      ]
     },
     "execution_count": 19,
     "metadata": {},
     "output_type": "execute_result"
    }
   ],
   "source": [
    "#Simple overloading using class with constructor\n",
    "class student():\n",
    "    def __init__(self,name=None,age=None):\n",
    "        if name and age:\n",
    "            print(f\"Name:{name},Age:{age}\")\n",
    "        elif name:\n",
    "            print(f\"Name:{name}\")\n",
    "        else:\n",
    "            print(\"no data\")       \n",
    "student()\n",
    "student('name')\n",
    "student('Vinita',20)"
   ]
  },
  {
   "cell_type": "code",
   "execution_count": 21,
   "id": "d25ac200-c8c3-4820-a140-5681ce336967",
   "metadata": {},
   "outputs": [
    {
     "name": "stdout",
     "output_type": "stream",
     "text": [
      "True\n",
      "False\n"
     ]
    }
   ],
   "source": [
    "'''isinstance()'''\n",
    "n=99\n",
    "print(isinstance(n,int))\n",
    "print(isinstance(n,float))"
   ]
  },
  {
   "cell_type": "code",
   "execution_count": 23,
   "id": "8743c08d-fd8f-4313-bec4-13ff7c754b52",
   "metadata": {},
   "outputs": [
    {
     "name": "stdout",
     "output_type": "stream",
     "text": [
      "True\n",
      "False\n"
     ]
    }
   ],
   "source": [
    "#isinstance\n",
    "class pet():\n",
    "    pass\n",
    "class dog():\n",
    "    pass\n",
    "d=dog()\n",
    "print(isinstance(d,dog))\n",
    "print(isinstance(d,pet))"
   ]
  },
  {
   "cell_type": "code",
   "execution_count": 25,
   "id": "222cf6ec-4db3-408c-a065-5dd99c1bd365",
   "metadata": {},
   "outputs": [
    {
     "name": "stdout",
     "output_type": "stream",
     "text": [
      "4,7\n"
     ]
    }
   ],
   "source": [
    "#overloading with operators\n",
    "class val():\n",
    "    def __init__(self,x,y):\n",
    "        self.x=x\n",
    "        self.y=y\n",
    "    def __add__(self,ol):\n",
    "        return val(self.x+ol.x,self.y+ol.y)\n",
    "    def __str__(self):\n",
    "        return f\"{self.x},{self.y}\"     \n",
    "a=val(1,2)\n",
    "b=val(3,5)\n",
    "print(a+b)\n"
   ]
  },
  {
   "cell_type": "markdown",
   "id": "e9737579-c547-4993-a0f1-ea2100741dab",
   "metadata": {},
   "source": [
    "code for add complex numbers,where imaginary numbers and real numbers to be evaluated separately with __add__() method and raise and error exception with this value where unsupportive data type is encountered\n",
    "a=1+2i\n",
    "b=3+4i\n",
    "output=4+6i"
   ]
  },
  {
   "cell_type": "code",
   "execution_count": 59,
   "id": "9528f8fb-ddaa-4c77-98de-bf9e63904fa3",
   "metadata": {},
   "outputs": [
    {
     "name": "stdout",
     "output_type": "stream",
     "text": [
      "4+6i\n"
     ]
    }
   ],
   "source": [
    "class complex():\n",
    "    def __init__(self,r=0,i=0):\n",
    "        self.r=r\n",
    "        self.i=i\n",
    "    def __add__(self,ol):\n",
    "        if isinstance(ol,complex):\n",
    "            return complex(self.r+ol.r,self.i+ol.i)\n",
    "        else:\n",
    "            raise TypeError(\"Unsupported operand-type\")\n",
    "    def __str__(self):\n",
    "        return f\"{self.r}+{self.i}i\"       \n",
    "a=complex(1,2)\n",
    "b=complex(3,4)\n",
    "result=a+b\n",
    "print(result)"
   ]
  },
  {
   "cell_type": "code",
   "execution_count": 63,
   "id": "5524913e-2fda-4c3d-a429-d41f37d0a7d6",
   "metadata": {},
   "outputs": [
    {
     "name": "stdout",
     "output_type": "stream",
     "text": [
      "Animal sounds\n",
      "The pet barks!!\n"
     ]
    }
   ],
   "source": [
    "#Overriding redefine the child class which is already exists\n",
    "class pet:\n",
    "    def sound(self):\n",
    "        print(\"Animal sounds\")\n",
    "class dog(pet):\n",
    "    def sound(self):\n",
    "        print(\"The pet barks!!\")\n",
    "a=pet()\n",
    "a.sound()\n",
    "d=dog()\n",
    "d.sound()"
   ]
  },
  {
   "cell_type": "code",
   "execution_count": 65,
   "id": "d6e9238b-cda1-4ef9-b6e5-5925c9e2dffb",
   "metadata": {},
   "outputs": [
    {
     "name": "stdout",
     "output_type": "stream",
     "text": [
      "Animal sounds\n"
     ]
    }
   ],
   "source": [
    "#Calling the super class method from class\n",
    "class pet:\n",
    "    def sound(self):\n",
    "        print(\"Animal sounds\")\n",
    "class dog(pet):\n",
    "    def sound(self):\n",
    "        super().sound() #calling parent method\n",
    "        print(\"The pet barks!!\")\n",
    "a=pet()\n",
    "a.sound()"
   ]
  },
  {
   "cell_type": "code",
   "execution_count": 79,
   "id": "85b432a4-bdaa-4ccd-8640-2dfa1c3a2fc3",
   "metadata": {},
   "outputs": [
    {
     "name": "stdout",
     "output_type": "stream",
     "text": [
      "Student constructor\n",
      "person constructor\n"
     ]
    }
   ],
   "source": [
    "#Constructor overriding\n",
    "class student:\n",
    "    def __init__(self,name):\n",
    "        self.name=name\n",
    "        print(\"Student constructor\")\n",
    "class person(student):\n",
    "    def __init__(self,name,grade):\n",
    "        super().__init__(name)\n",
    "        self.grade=grade\n",
    "        print(\"person constructor\")\n",
    "s=person('vinita','F')"
   ]
  },
  {
   "cell_type": "code",
   "execution_count": 81,
   "id": "92e739be-7f5e-4202-b53a-8e6a7e844009",
   "metadata": {},
   "outputs": [
    {
     "name": "stdout",
     "output_type": "stream",
     "text": [
      "Barks...\n",
      "Meows..\n",
      "Animal sound\n"
     ]
    }
   ],
   "source": [
    "#method overriding by a polymorphism eval\n",
    "class pet:\n",
    "    def sound(self):\n",
    "        print(\"Animal sound\")\n",
    "class dog:\n",
    "    def sound(self):\n",
    "        print(\"Barks...\")\n",
    "class cat:\n",
    "    def sound(self):\n",
    "        print(\"Meows..\")\n",
    "pets=[dog(),cat(),pet()]\n",
    "for p in pets:\n",
    "    p.sound()"
   ]
  },
  {
   "cell_type": "markdown",
   "id": "6e889de4-1890-4422-bef7-ebf413736d19",
   "metadata": {},
   "source": [
    "Code for overriding different parameters in parent method by calculating the area of a circle and square from a parent class shape pass side 4 for square and radius 5 for circle."
   ]
  },
  {
   "cell_type": "code",
   "execution_count": 87,
   "id": "fde081fe-6615-4765-8caa-233b086349d7",
   "metadata": {},
   "outputs": [
    {
     "name": "stdin",
     "output_type": "stream",
     "text": [
      "Enter the radius: 2\n",
      "Enter the side 4\n"
     ]
    },
    {
     "name": "stdout",
     "output_type": "stream",
     "text": [
      "16\n",
      "12.566370614359172\n"
     ]
    }
   ],
   "source": [
    "from math import pi\n",
    "class shape():\n",
    "    def area(self):\n",
    "        print(\"Area is not defined\")\n",
    "class Square(shape):\n",
    "    def area(self):\n",
    "        return s**2\n",
    "class Circle(shape):\n",
    "    def area(self):\n",
    "        return pi*(r**2)\n",
    "r=int(input(\"Enter the radius:\"))\n",
    "s=int(input(\"Enter the side\"))\n",
    "square=Square()\n",
    "circle=Circle()\n",
    "print(square.area())\n",
    "print(circle.area())"
   ]
  },
  {
   "cell_type": "code",
   "execution_count": null,
   "id": "4d891bd3-d9d1-46bc-8697-e63a8bfb84e3",
   "metadata": {},
   "outputs": [],
   "source": []
  }
 ],
 "metadata": {
  "kernelspec": {
   "display_name": "Python 3 (ipykernel)",
   "language": "python",
   "name": "python3"
  },
  "language_info": {
   "codemirror_mode": {
    "name": "ipython",
    "version": 3
   },
   "file_extension": ".py",
   "mimetype": "text/x-python",
   "name": "python",
   "nbconvert_exporter": "python",
   "pygments_lexer": "ipython3",
   "version": "3.12.7"
  }
 },
 "nbformat": 4,
 "nbformat_minor": 5
}
