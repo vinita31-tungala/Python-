{
 "cells": [
  {
   "cell_type": "markdown",
   "id": "51f431c2-41fa-4ed7-a88f-afda67ac3cc6",
   "metadata": {},
   "source": [
    "Class and Object in OOPS"
   ]
  },
  {
   "cell_type": "code",
   "execution_count": 1,
   "id": "ea666235-a7d5-40b3-818a-a5680633f20b",
   "metadata": {},
   "outputs": [
    {
     "name": "stdout",
     "output_type": "stream",
     "text": [
      "100\n",
      "This is a class method\n"
     ]
    }
   ],
   "source": [
    "class abc():\n",
    "    var=100\n",
    "    def display(self):\n",
    "        print(\"This is a class method\")\n",
    "obj=abc()\n",
    "print(obj.var)\n",
    "obj.display()"
   ]
  },
  {
   "cell_type": "code",
   "execution_count": 7,
   "id": "67cd5cea-b06c-4b35-8391-6e9ef96822da",
   "metadata": {},
   "outputs": [
    {
     "name": "stdout",
     "output_type": "stream",
     "text": [
      "This is a class method\n",
      "the value is: 10\n"
     ]
    }
   ],
   "source": [
    "#class constructor __init__(method)\n",
    "class abc():\n",
    "    def __init__(self,val):\n",
    "        print(\"This is a class method\")\n",
    "        self.val=val\n",
    "        print(\"the value is:\",val)\n",
    "obj=abc(10)"
   ]
  },
  {
   "cell_type": "code",
   "execution_count": 63,
   "id": "b6d2146f-9902-4e84-822e-2f83f340ba61",
   "metadata": {},
   "outputs": [
    {
     "name": "stdout",
     "output_type": "stream",
     "text": [
      "Object var: 10\n",
      "Class var: 1\n",
      "Object var: 20\n",
      "Class var: 2\n",
      "Object var: 30\n",
      "Class var: 3\n"
     ]
    }
   ],
   "source": [
    "#class object variables  #delete  #cv=class variable\n",
    "class abc():\n",
    "    cv=0\n",
    "    def __init__(self,var):\n",
    "        abc.cv+=1\n",
    "        self.var=var\n",
    "        print(\"Object var:\",var)\n",
    "        print(\"Class var:\",abc.cv)\n",
    "obj=abc(10)\n",
    "obj=abc(20)\n",
    "obj=abc(30)\n"
   ]
  },
  {
   "cell_type": "code",
   "execution_count": null,
   "id": "30e33147-2a25-4504-9c51-7b621338e042",
   "metadata": {},
   "outputs": [],
   "source": [
    "Code to illustrate the modifiacation of an instance variable to check whether the passing attribute is even or odd,by creating a class number and function to check even or odd"
   ]
  },
  {
   "cell_type": "code",
   "execution_count": 23,
   "id": "0a5c5aac-fc76-4670-805d-d0c5e2889ff2",
   "metadata": {},
   "outputs": [
    {
     "name": "stdout",
     "output_type": "stream",
     "text": [
      "23 is odd\n"
     ]
    }
   ],
   "source": [
    "#eo - even or odd\n",
    "class number:\n",
    "    even=0\n",
    "    def check(self,num):\n",
    "        if num%2==0:\n",
    "            self.even=1\n",
    "    def eo(self,num):\n",
    "        self.check(num)\n",
    "        if self.even==1:\n",
    "            print(num,\"is even\")\n",
    "        else:\n",
    "            print(num,\"is odd\")\n",
    "n=number()\n",
    "n.eo(23)"
   ]
  },
  {
   "cell_type": "markdown",
   "id": "9f7f5817-9424-40d7-9838-edec117c13df",
   "metadata": {},
   "source": [
    "segregate the even and odd parameters in a list and print even list separately using a class \"number\"\n",
    "n1=number(21)\n",
    "n2=number(32)\n",
    "n3=number(43)\n",
    "n4=number(54)\n",
    "n5=number(65)\n",
    "output: even numbers:[32,54]\n",
    "odd numbers:[21,43,65]"
   ]
  },
  {
   "cell_type": "code",
   "execution_count": 47,
   "id": "9ac60399-fd3d-4dfa-ac8f-0cb05f564cf6",
   "metadata": {},
   "outputs": [
    {
     "name": "stdout",
     "output_type": "stream",
     "text": [
      "Even numbers: [32, 54]\n",
      "Odds numbers: [21, 43, 65]\n"
     ]
    }
   ],
   "source": [
    "class number():\n",
    "    evens=[]\n",
    "    odds=[]\n",
    "    def __init__(self,num):\n",
    "        self.num=num\n",
    "        if num%2==0:\n",
    "            number.evens.append(num)\n",
    "        else:\n",
    "            number.odds.append(num)\n",
    "n1=number(21)\n",
    "n2=number(32)\n",
    "n3=number(43)\n",
    "n4=number(54)\n",
    "n5=number(65)\n",
    "print(\"Even numbers:\",number.evens)\n",
    "print(\"Odds numbers:\",number.odds)"
   ]
  },
  {
   "cell_type": "code",
   "execution_count": 65,
   "id": "c5858063-97f8-49f6-97be-a36dc13ee245",
   "metadata": {},
   "outputs": [
    {
     "name": "stdout",
     "output_type": "stream",
     "text": [
      "Object var: 10\n",
      "Class var: 1\n",
      "Object var: 20\n",
      "Class var: 2\n",
      "Object var: 30\n",
      "Class var: 3\n",
      "Object with 10 is going out of scope \n",
      "Object with 20 is going out of scope \n",
      "Object with 30 is going out of scope \n"
     ]
    }
   ],
   "source": [
    "  #delete  #cv=class variable\n",
    "class abc():\n",
    "    cv=0\n",
    "    def __init__(self,var):\n",
    "        abc.cv+=1\n",
    "        self.var=var\n",
    "        print(\"Object var:\",var)\n",
    "        print(\"Class var:\",abc.cv)\n",
    "    def __del__(self):\n",
    "        abc.cv-=1\n",
    "        print(\"Object with %d is going out of scope \"%self.var)\n",
    "obj1=abc(10)\n",
    "obj2=abc(20)\n",
    "obj3=abc(30)\n",
    "del obj1\n",
    "del obj2\n",
    "del obj3"
   ]
  },
  {
   "cell_type": "markdown",
   "id": "7c883ff0-57af-4854-9d0e-9b39f755892d",
   "metadata": {},
   "source": [
    "__repr__ - representation\n",
    "__cmp__  - compare\n",
    "__len__  - length"
   ]
  },
  {
   "cell_type": "code",
   "execution_count": 69,
   "id": "093e347b-a26a-4be2-9768-c861888ed347",
   "metadata": {},
   "outputs": [
    {
     "name": "stdout",
     "output_type": "stream",
     "text": [
      "the value stored in object is: 10\n",
      "the length of the name stored in object: 6\n",
      "Second value is less than first\n"
     ]
    }
   ],
   "source": [
    "class abc():\n",
    "    def __init__(self,name,var):\n",
    "        self.name=name\n",
    "        self.var=var\n",
    "    def __repr__(self):\n",
    "        return repr(self.var)\n",
    "    def __len__(self):\n",
    "        return len(self.name)\n",
    "    def __cmp__(self,obj):\n",
    "        return self.var-obj.var\n",
    "obj=abc(\"abcdef\",10)\n",
    "print(\"the value stored in object is:\",repr(obj))\n",
    "print(\"the length of the name stored in object:\",len(obj))\n",
    "obj1=abc(\"ghijkl\",1)\n",
    "val=obj.__cmp__(obj1)\n",
    "if val==0:\n",
    "    print(\"Both values are equal\")\n",
    "elif val==-1:\n",
    "    print(\"first value is less than second\")\n",
    "else:\n",
    "    print(\"Second value is less than first\")\n",
    "    "
   ]
  },
  {
   "cell_type": "markdown",
   "id": "67f8a9d9-a738-4307-832c-d4126eace848",
   "metadata": {},
   "source": [
    "1.__call__()-- instance can be directly called\n",
    "2.__lt__(),__le__(),__gt__(),__ge__(),__eq__(),__ne__() -- comparison methods\n",
    "3.__hash__() -- decide obj/set/dict\n",
    "4.__iter__()\n",
    "5.__getitem__() -- to create index value ,__setitem__() -- to set a index value"
   ]
  },
  {
   "cell_type": "code",
   "execution_count": 73,
   "id": "ecaf55b4-0958-4889-9f94-ca09a2000693",
   "metadata": {},
   "outputs": [
    {
     "name": "stdout",
     "output_type": "stream",
     "text": [
      "<__main__.numbers object at 0x00000179AEC61E20>\n",
      "[1, 2, 3, 10, 5, 6, 7, 8, 9]\n"
     ]
    }
   ],
   "source": [
    "class numbers:\n",
    "    def __init__(self,mylist):\n",
    "        self.mylist=mylist\n",
    "    def __getitem__(self,index):\n",
    "        return self.mylist[index]\n",
    "    def __setitem__(self,index,val):\n",
    "        self.mylist[index]=val\n",
    "numlist=numbers([1,2,3,4,5,6,7,8,9])\n",
    "print(numlist)\n",
    "numlist[3]=10\n",
    "print(numlist.mylist)"
   ]
  },
  {
   "cell_type": "code",
   "execution_count": null,
   "id": "1fb626e9-4854-4a53-9434-8d3c2f286c9f",
   "metadata": {},
   "outputs": [],
   "source": []
  }
 ],
 "metadata": {
  "kernelspec": {
   "display_name": "Python 3 (ipykernel)",
   "language": "python",
   "name": "python3"
  },
  "language_info": {
   "codemirror_mode": {
    "name": "ipython",
    "version": 3
   },
   "file_extension": ".py",
   "mimetype": "text/x-python",
   "name": "python",
   "nbconvert_exporter": "python",
   "pygments_lexer": "ipython3",
   "version": "3.12.7"
  }
 },
 "nbformat": 4,
 "nbformat_minor": 5
}
